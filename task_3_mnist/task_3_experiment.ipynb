{
 "cells": [
  {
   "cell_type": "markdown",
   "metadata": {},
   "source": [
    "# Task 3 MNIST classifier. OOP\n",
    "\n",
    "You have 3 different models to solve MNIST (handwritten digits database) classification\n",
    "problem:\n",
    "- Convolutional Neural Network (any architecture, any framework);\n",
    "  -  Input: tensor 28x28x1;\n",
    "-  Random Forest classifier;\n",
    "  - Input: 1-d numpy array of length 784 (28x28 pixels);\n",
    "- Model that provides random value (for simplicity) as a result of classification;\n",
    "  - Input: 10x10 numpy array, the center crop of the image.\n",
    "\n",
    "The goal is to build a DigitClassifier model that takes an algorithm as an input\n",
    "parameter. Possible values for the algorithm are: `cnn`, `rf`, `rand` for the three models\n",
    "described above. \n",
    "\n",
    "There is NO need to implement a training function inside DigitClassifier and focus on\n",
    "the quality of the model, just raise a Not implemented exception. We need to focus only\n",
    "on the predict function that takes a 28x28x1 image as input and provides a single\n",
    "integer value as output.\n",
    "\n",
    "Ideally, the solution should contain:\n",
    "- Interface for models like Convolutional Neural Network, Random Forest classifier,\n",
    "Random model. Potentially other developers will develop new models, so we\n",
    "need to have an interface for them. Let’s call it DigitClassificationInterface.\n",
    "- 3 classes (1 for each model) that implement DigitClassificationInterface.\n",
    "- DigitClassifier, which takes as an input parameter the name of the algorithm\n",
    "and provides predictions with exactly the same structure (inputs and outputs) not\n",
    "depending on the selected algorithm.\n",
    "Please provide a github repository with your solution.\n",
    "\n",
    "\n",
    "---"
   ]
  },
  {
   "cell_type": "markdown",
   "metadata": {},
   "source": [
    "#### Importing necessery libraries\n"
   ]
  },
  {
   "cell_type": "code",
   "execution_count": 1,
   "metadata": {},
   "outputs": [],
   "source": [
    "from torchvision import datasets, transforms\n",
    "import torch\n",
    "import numpy as np"
   ]
  },
  {
   "cell_type": "markdown",
   "metadata": {},
   "source": [
    "#### Prepare transformations for MNIST dataset"
   ]
  },
  {
   "cell_type": "code",
   "execution_count": 2,
   "metadata": {},
   "outputs": [],
   "source": [
    "transform = transforms.Compose([\n",
    "    transforms.ToTensor(),\n",
    "    transforms.Normalize((0.5,), (0.5,))\n",
    "])"
   ]
  },
  {
   "cell_type": "markdown",
   "metadata": {},
   "source": [
    "#### Loading MNIST dataset"
   ]
  },
  {
   "cell_type": "code",
   "execution_count": 3,
   "metadata": {},
   "outputs": [],
   "source": [
    "train_dataset = datasets.MNIST(root='./data', train=True, transform=transform, download=True)\n",
    "test_dataset = datasets.MNIST(root='./data', train=False, transform=transform, download=True)\n",
    "\n",
    "train_images = torch.stack([train_dataset[i][0] for i in range(len(train_dataset))]) \n",
    "train_labels = torch.tensor([train_dataset[i][1] for i in range(len(train_dataset))])  \n",
    "\n",
    "test_images = torch.stack([test_dataset[i][0] for i in range(len(test_dataset))]) \n",
    "test_labels = torch.tensor([test_dataset[i][1] for i in range(len(test_dataset))]) \n",
    "\n",
    "train_images = train_images.permute(0, 2, 3, 1)  \n",
    "test_images = test_images.permute(0, 2, 3, 1)   "
   ]
  },
  {
   "cell_type": "markdown",
   "metadata": {},
   "source": [
    "## CNN classifier\n",
    "\n",
    "For CNN classification I have used a ResNet18 pretrained model \n",
    "\n",
    "\n",
    "---"
   ]
  },
  {
   "cell_type": "code",
   "execution_count": 4,
   "metadata": {},
   "outputs": [
    {
     "name": "stderr",
     "output_type": "stream",
     "text": [
      "/Users/yuriivoievidka/.pyenv/versions/3.12.7/envs/torch/lib/python3.12/site-packages/torchvision/models/_utils.py:208: UserWarning: The parameter 'pretrained' is deprecated since 0.13 and may be removed in the future, please use 'weights' instead.\n",
      "  warnings.warn(\n",
      "/Users/yuriivoievidka/.pyenv/versions/3.12.7/envs/torch/lib/python3.12/site-packages/torchvision/models/_utils.py:223: UserWarning: Arguments other than a weight enum or `None` for 'weights' are deprecated since 0.13 and may be removed in the future. The current behavior is equivalent to passing `weights=ResNet18_Weights.IMAGENET1K_V1`. You can also use `weights=ResNet18_Weights.DEFAULT` to get the most up-to-date weights.\n",
      "  warnings.warn(msg)\n",
      "/Users/yuriivoievidka/MLProjects/QuantumTestTask/task_3_mnist/models/cnn.py:19: UserWarning: To copy construct from a tensor, it is recommended to use sourceTensor.clone().detach() or sourceTensor.clone().detach().requires_grad_(True), rather than torch.tensor(sourceTensor).\n",
      "  image = torch.tensor(image).permute(2, 0, 1).unsqueeze(0).float()  # Shape: (1, 1, 28, 28)\n"
     ]
    },
    {
     "data": {
      "text/plain": [
       "9"
      ]
     },
     "execution_count": 4,
     "metadata": {},
     "output_type": "execute_result"
    }
   ],
   "source": [
    "from classifier import DigitClassifier\n",
    "\n",
    "cnn_cfr = DigitClassifier(algorithm=\"cnn\")\n",
    "number = cnn_cfr.predict(test_images[0])\n",
    "number"
   ]
  },
  {
   "cell_type": "markdown",
   "metadata": {},
   "source": [
    "## Random forest classifier\n",
    "\n",
    "We can't predict with random forest classifier and not fit it firstly, otherwise it will raise Not Fitted error\n",
    "\n",
    "---"
   ]
  },
  {
   "cell_type": "code",
   "execution_count": 6,
   "metadata": {},
   "outputs": [],
   "source": [
    "from classifier import DigitClassifier\n",
    "\n",
    "rf_cfr = DigitClassifier(algorithm=\"rf\")"
   ]
  },
  {
   "cell_type": "code",
   "execution_count": null,
   "metadata": {},
   "outputs": [],
   "source": [
    "train_images_rf = np.array([np.array(img[0]).flatten() for img in train_dataset])\n",
    "train_labels_rf = np.array([img[1] for img in train_dataset])"
   ]
  },
  {
   "cell_type": "code",
   "execution_count": 9,
   "metadata": {},
   "outputs": [
    {
     "name": "stdout",
     "output_type": "stream",
     "text": [
      "Training classifier, wait please\n",
      "Classifier is ready\n"
     ]
    }
   ],
   "source": [
    "rf_cfr.fit(train_images_rf, train_labels_rf)"
   ]
  },
  {
   "cell_type": "code",
   "execution_count": 17,
   "metadata": {},
   "outputs": [
    {
     "data": {
      "text/plain": [
       "9"
      ]
     },
     "execution_count": 17,
     "metadata": {},
     "output_type": "execute_result"
    }
   ],
   "source": [
    "rf_cfr.predict(test_images[0])\n"
   ]
  },
  {
   "cell_type": "markdown",
   "metadata": {},
   "source": [
    "## Random Classifier\n",
    "\n",
    "---"
   ]
  },
  {
   "cell_type": "code",
   "execution_count": 13,
   "metadata": {},
   "outputs": [
    {
     "data": {
      "text/plain": [
       "3"
      ]
     },
     "execution_count": 13,
     "metadata": {},
     "output_type": "execute_result"
    }
   ],
   "source": [
    "from classifier import DigitClassifier\n",
    "\n",
    "rf_cfr = DigitClassifier(algorithm=\"rand\")\n",
    "rf_cfr.predict(test_images[0].numpy())"
   ]
  },
  {
   "cell_type": "code",
   "execution_count": null,
   "metadata": {},
   "outputs": [],
   "source": []
  }
 ],
 "metadata": {
  "kernelspec": {
   "display_name": "torch",
   "language": "python",
   "name": "python3"
  },
  "language_info": {
   "codemirror_mode": {
    "name": "ipython",
    "version": 3
   },
   "file_extension": ".py",
   "mimetype": "text/x-python",
   "name": "python",
   "nbconvert_exporter": "python",
   "pygments_lexer": "ipython3",
   "version": "3.12.7"
  }
 },
 "nbformat": 4,
 "nbformat_minor": 2
}
