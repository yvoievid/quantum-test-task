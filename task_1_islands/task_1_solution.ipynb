{
 "cells": [
  {
   "cell_type": "markdown",
   "metadata": {},
   "source": [
    "# Task 1. Counting islands. Classical Algorithms\n",
    "\n",
    "You have a matrix MxN that represents a map. There are 2 possible states on the map:\n",
    "1 - islands, 0 - the ocean. Your task is to calculate the number of islands in the most\n",
    "effective way. \n",
    "\n",
    "Please write code in Python 3 and provide a github repository with a\n",
    "solution.\n",
    "\n",
    "Take care that you clearly understand test cases before starting implementation\n",
    "\n",
    "---"
   ]
  },
  {
   "cell_type": "markdown",
   "metadata": {},
   "source": [
    "Initializing test data"
   ]
  },
  {
   "cell_type": "code",
   "execution_count": 4,
   "metadata": {},
   "outputs": [],
   "source": [
    "import numpy as np\n",
    "\n",
    "# Test Case 1\n",
    "M1, N1 = 3, 3\n",
    "matrix1 = np.array([\n",
    "    [0, 1, 0],\n",
    "    [0, 0, 0],\n",
    "    [0, 1, 1]\n",
    "])\n",
    "output1 = 2\n",
    "\n",
    "# Test Case 2\n",
    "M2, N2 = 3, 4\n",
    "matrix2 = np.array([\n",
    "    [0, 0, 0, 1],\n",
    "    [0, 0, 1, 0],\n",
    "    [0, 1, 0, 0]\n",
    "])\n",
    "output2 = 3\n",
    "\n",
    "# Test Case 3\n",
    "M3, N3 = 3, 4\n",
    "matrix3 = np.array([\n",
    "    [0, 0, 0, 1],\n",
    "    [0, 0, 1, 1],\n",
    "    [0, 1, 0, 1]\n",
    "])\n",
    "output3 = 2\n",
    "    "
   ]
  },
  {
   "cell_type": "markdown",
   "metadata": {},
   "source": [
    "Defining solution. \n",
    "\n",
    "To understand how many islands there are on the matrix I will use Depth-first search algorithm"
   ]
  },
  {
   "cell_type": "code",
   "execution_count": 5,
   "metadata": {},
   "outputs": [],
   "source": [
    "directions = [(-1, 0), (1, 0), (0, -1), (0, 1)]\n",
    "\n",
    "def dfs(a, x, y):\n",
    "    if not (0 <= x < len(a) and 0 <= y < len(a[0]) and a[x][y]):        \n",
    "        return 0\n",
    "    \n",
    "    a[x][y] = 0\n",
    "    for dx in directions:\n",
    "            dfs(a, x + dx[0], y + dx[1])\n",
    "    \n",
    "    return 1\n",
    "\n",
    "def count_islands(a):\n",
    "    return sum(dfs(a, i, j) for i in range(len(a)) for j in range(len(a[0])))\n",
    "    "
   ]
  },
  {
   "cell_type": "code",
   "execution_count": 6,
   "metadata": {},
   "outputs": [
    {
     "name": "stdout",
     "output_type": "stream",
     "text": [
      "Nubmer of islatads in test case 1: 2\n"
     ]
    }
   ],
   "source": [
    "print(f\"Nubmer of islatads in test case 1: {count_islands(matrix1)}\")"
   ]
  },
  {
   "cell_type": "code",
   "execution_count": 7,
   "metadata": {},
   "outputs": [
    {
     "name": "stdout",
     "output_type": "stream",
     "text": [
      "Nubmer of islatads in test case 2: 3\n"
     ]
    }
   ],
   "source": [
    "print(f\"Nubmer of islatads in test case 2: {count_islands(matrix2)}\")"
   ]
  },
  {
   "cell_type": "code",
   "execution_count": 8,
   "metadata": {},
   "outputs": [
    {
     "name": "stdout",
     "output_type": "stream",
     "text": [
      "Nubmer of islatads in test case 3: 2\n"
     ]
    }
   ],
   "source": [
    "print(f\"Nubmer of islatads in test case 3: {count_islands(matrix3)}\")"
   ]
  },
  {
   "cell_type": "code",
   "execution_count": null,
   "metadata": {},
   "outputs": [],
   "source": []
  }
 ],
 "metadata": {
  "kernelspec": {
   "display_name": "torch",
   "language": "python",
   "name": "python3"
  },
  "language_info": {
   "codemirror_mode": {
    "name": "ipython",
    "version": 3
   },
   "file_extension": ".py",
   "mimetype": "text/x-python",
   "name": "python",
   "nbconvert_exporter": "python",
   "pygments_lexer": "ipython3",
   "version": "3.12.7"
  }
 },
 "nbformat": 4,
 "nbformat_minor": 2
}
